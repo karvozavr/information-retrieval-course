{
 "cells": [
  {
   "cell_type": "code",
   "execution_count": 1,
   "metadata": {},
   "outputs": [],
   "source": [
    "import numpy as np\n",
    "import os\n",
    "from collections import Counter\n",
    "import json"
   ]
  },
  {
   "cell_type": "code",
   "execution_count": 2,
   "metadata": {},
   "outputs": [],
   "source": [
    "def getLexOrText(d):\n",
    "    if not d['analysis']:\n",
    "        return d['text'].lower()\n",
    "    \n",
    "    analysis = d['analysis'][0]\n",
    "    \n",
    "    return analysis['lex'] if 'lex' in analysis else d['text'].lower()"
   ]
  },
  {
   "cell_type": "markdown",
   "metadata": {},
   "source": [
    "`analyze_file` возвращает лист слов в нижнем регистре. Если mystem справился с анализом слова, оно заменяется леммой. Этого может не произойти, если, например, слово написано латиницей; в таком случае вернется исходная форма слова."
   ]
  },
  {
   "cell_type": "code",
   "execution_count": 3,
   "metadata": {},
   "outputs": [],
   "source": [
    "from subprocess import check_output\n",
    "def analyze_file(file):\n",
    "    words_results = check_output(['mystem', '-n', '--format', 'json', file]).decode().split('\\n')\n",
    "    words_results = filter(bool, words_results)\n",
    "    json_results = [json.loads(w) for w in words_results]\n",
    "    \n",
    "    result = list(map(getLexOrText, json_results))\n",
    "    return result"
   ]
  },
  {
   "cell_type": "markdown",
   "metadata": {},
   "source": [
    "Функция ниже работает ~2,5 часа. Она записывает в файл данные о коллекции слов в формате:\n",
    "\n",
    "word x y\n",
    "\n",
    "где x - сколько раз встретилось слово word (или его формы), y - в скольких документах оно (или его формы) встретилось"
   ]
  },
  {
   "cell_type": "code",
   "execution_count": null,
   "metadata": {},
   "outputs": [],
   "source": [
    "def get_collection(text_dir):\n",
    "    collection = Counter()\n",
    "    collection_doc = Counter()\n",
    "\n",
    "    #cnt = 0\n",
    "    for filename in os.listdir(text_dir):\n",
    "        if not filename.endswith(\".txt\"):\n",
    "            continue\n",
    "    \n",
    "        #cnt += 1\n",
    "        #if cnt % 200 == 0:\n",
    "            #print(cnt)\n",
    "            \n",
    "        with open(text_dir + filename) as f:\n",
    "            words = analyze_file(text_dir + filename)\n",
    "            collection.update(words)\n",
    "            collection_doc.update(set(words))\n",
    "        \n",
    "    # save file\n",
    "    \n",
    "    with open(OUTPUT_COLLECTION_FILE, 'a') as out:\n",
    "        for value, count in collection.items():\n",
    "            s = value + ' ' + str(count) + ' ' + str(collection_doc[value])\n",
    "            out.write(s + os.linesep)"
   ]
  },
  {
   "cell_type": "code",
   "execution_count": null,
   "metadata": {
    "scrolled": false
   },
   "outputs": [],
   "source": [
    "get_collection(TEXT_DIR_TOTAL, OUTPUT_COLLECTION_FILE)"
   ]
  },
  {
   "cell_type": "markdown",
   "metadata": {},
   "source": [
    "Анализируем только русские стоп-слова. Их мало, поэтому можем хранить их."
   ]
  },
  {
   "cell_type": "code",
   "execution_count": 4,
   "metadata": {},
   "outputs": [],
   "source": [
    "stop_words = []\n",
    "def get_stop_words(file):\n",
    "    if stop_words:\n",
    "        return\n",
    "    \n",
    "    with open(file) as f:\n",
    "        for word in f:\n",
    "            stop_words.append(word.split()[0])"
   ]
  },
  {
   "cell_type": "code",
   "execution_count": 5,
   "metadata": {},
   "outputs": [],
   "source": [
    "get_stop_words('../outputDir/russian')"
   ]
  },
  {
   "cell_type": "code",
   "execution_count": 6,
   "metadata": {},
   "outputs": [],
   "source": [
    "TEXT_DIR_TOTAL = '../outputDir/text/'\n",
    "OUTPUT_COLLECTION_FILE = '../outputDir/collection'"
   ]
  },
  {
   "cell_type": "code",
   "execution_count": 7,
   "metadata": {},
   "outputs": [],
   "source": [
    "def get_num_of_stop_words(words):\n",
    "    stop_w = list(filter(lambda w: w[0] in stop_words, words))\n",
    "    return sum(list(map(lambda w: w[1], stop_w)))"
   ]
  },
  {
   "cell_type": "code",
   "execution_count": 8,
   "metadata": {},
   "outputs": [],
   "source": [
    "import re\n",
    "latin_word = re.compile(r'[a-z]+')\n",
    "def is_word_latin(w):\n",
    "    word = w[0]\n",
    "    return latin_word.search(word) is not None\n",
    "\n",
    "def get_num_of_latin_words(words):\n",
    "    res = [0, 0]\n",
    "    for w in words:\n",
    "        if is_word_latin(w):\n",
    "            res[0] += 1\n",
    "            res[1] += w[1]\n",
    "\n",
    "    return res"
   ]
  },
  {
   "cell_type": "code",
   "execution_count": 9,
   "metadata": {},
   "outputs": [],
   "source": [
    "def get_word_length(words):\n",
    "    res = [0, 0]\n",
    "    for w in words:\n",
    "        res[0] += len(w[0])\n",
    "        res[1] += len(w[0]) * w[1]\n",
    "        \n",
    "    return res"
   ]
  },
  {
   "cell_type": "code",
   "execution_count": 10,
   "metadata": {},
   "outputs": [],
   "source": [
    "def get_words_cf(words, total_words_in_collection, stop=False):\n",
    "    def word_to_cf(w):\n",
    "        return [w[0], w[1] / total_words_in_collection]\n",
    "\n",
    "    res = list(map(word_to_cf, words))\n",
    "    res.sort(key=lambda el: -el[1])\n",
    "    if stop:\n",
    "        res = list(filter(lambda w: w[0] not in stop_words, res))\n",
    "    return res"
   ]
  },
  {
   "cell_type": "code",
   "execution_count": 11,
   "metadata": {},
   "outputs": [],
   "source": [
    "def get_words_idf(words, total_docs, stop=False):\n",
    "    def word_to_idf(w):\n",
    "        return [w[0], total_docs / w[2]]\n",
    "\n",
    "    res = list(map(word_to_idf, words))\n",
    "    res.sort(key=lambda el: el[1])\n",
    "    if stop:\n",
    "        res = list(filter(lambda w: w[0] not in stop_words, res))\n",
    "    return res"
   ]
  },
  {
   "cell_type": "code",
   "execution_count": 12,
   "metadata": {},
   "outputs": [],
   "source": [
    "def line_to_list(s):\n",
    "    l = s.split()\n",
    "    l[1] = int(l[1])\n",
    "    l[2] = int(l[2])\n",
    "    return l\n",
    "\n",
    "words = []\n",
    "def read_words(collection_file):\n",
    "    global words\n",
    "    if not words:\n",
    "        with open(collection_file) as f:\n",
    "            words = list(map(line_to_list, f.readlines()))"
   ]
  },
  {
   "cell_type": "code",
   "execution_count": 13,
   "metadata": {},
   "outputs": [],
   "source": [
    "from matplotlib import pyplot as plt\n",
    "from math import log10\n",
    "\n",
    "def plot_cf(words_cf):\n",
    "    plt.title(\"Зависимость ранга от cf\", fontweight = 'bold', fontsize = 18)\n",
    "    plt.xlabel(\"log(cf)\")\n",
    "    plt.ylabel(\"log(rank)\")\n",
    "    \n",
    "    data = np.array([[log10(w[1]), log10(i)] for i, w in enumerate(words_cf, 1)])\n",
    "    plt.plot(data[:, 0], data[:, 1])\n",
    "    plt.show()\n",
    "\n",
    "def plot_idf(words_idf):\n",
    "    plt.title(\"Зависимость ранга от idf\", fontweight = 'bold', fontsize = 18)\n",
    "    plt.xlabel(\"log(idf)\")\n",
    "    plt.ylabel(\"log(rank)\")\n",
    "    \n",
    "    data = np.array([[log10(w[1]), log10(i)] for i, w in enumerate(words_idf, 1)])\n",
    "    plt.plot(data[:, 0], data[:, 1])\n",
    "    plt.show()\n",
    "\n",
    "\n",
    "def build_plots(words_cf, words_idf):\n",
    "    plot_cf(words_cf)\n",
    "    plot_idf(words_idf)"
   ]
  },
  {
   "cell_type": "code",
   "execution_count": 16,
   "metadata": {},
   "outputs": [],
   "source": [
    "def get_characteristics(collection_file):\n",
    "    read_words(collection_file)\n",
    "    \n",
    "    total_words_in_collection = sum(map(lambda w: w[1], words))\n",
    "    words_in_dict = len(words)\n",
    "    print('Всего слов в документах:', total_words_in_collection)\n",
    "    print('Слов в словаре:', words_in_dict)\n",
    "    \n",
    "    print()\n",
    "    \n",
    "    num_of_stop_words = get_num_of_stop_words(words)\n",
    "    print('Стоп-слов в документах:', num_of_stop_words)\n",
    "    print('Доля стоп-слов:', num_of_stop_words / total_words_in_collection)\n",
    "    \n",
    "    print()\n",
    "    \n",
    "    num_of_latin_words = get_num_of_latin_words(words)\n",
    "    print('Слов целиком латиницей в словаре:', num_of_latin_words[0])\n",
    "    print('Доля слов целиком латиницей в словаре:', num_of_latin_words[0] / words_in_dict)\n",
    "    print('Слов целиком латиницей в документах:', num_of_latin_words[1])\n",
    "    print('Доля слов целиком латиницей в документах:', num_of_latin_words[1] / total_words_in_collection)\n",
    "    \n",
    "    print()\n",
    "    \n",
    "    word_len = get_word_length(words)\n",
    "    print('Средняя длина слова в словаре:', word_len[0] / words_in_dict)\n",
    "    print('Средняя длина слова в коллекции:', word_len[1] / total_words_in_collection)\n",
    "    \n",
    "    print()\n",
    "    top_len = 10\n",
    "    print(str(top_len), \"самых частых слов в коллекции:\")\n",
    "    words_cf = get_words_cf(words, total_words_in_collection)\n",
    "    words_cf_top = words_cf[:top_len]\n",
    "    for w in words_cf_top:\n",
    "        print(w)\n",
    "        \n",
    "    print()\n",
    "    total_num_of_docs = 200000\n",
    "    print(str(top_len), \"слов с наименьшим idf:\")\n",
    "    words_idf = get_words_idf(words, total_num_of_docs)\n",
    "    words_idf_top = words_idf[:top_len]\n",
    "    for w in words_idf_top:\n",
    "        print(w)\n",
    "        \n",
    "    build_plots(words_cf, words_idf)\n",
    "    \n",
    "    print()\n",
    "    print(str(top_len), \"самых частых слов в коллекции без стоп-слов:\")\n",
    "    words_cf = get_words_cf(words, total_words_in_collection, True)\n",
    "    words_cf_top = words_cf[:top_len]\n",
    "    for w in words_cf_top:\n",
    "        print(w)\n",
    "        \n",
    "    print()\n",
    "    print(str(top_len), \"слов с наименьшим idf без стоп-слов:\")\n",
    "    words_idf = get_words_idf(words, total_num_of_docs, True)\n",
    "    words_idf_top = words_idf[:top_len]\n",
    "    for w in words_idf_top:\n",
    "        print(w)\n"
   ]
  },
  {
   "cell_type": "code",
   "execution_count": 17,
   "metadata": {},
   "outputs": [
    {
     "name": "stdout",
     "output_type": "stream",
     "text": [
      "Всего слов в документах: 153364496\n",
      "Слов в словаре: 1302360\n",
      "\n",
      "Стоп-слов в документах: 29330878\n",
      "Доля стоп-слов: 0.1912494662389136\n",
      "\n",
      "Слов целиком латиницей в словаре: 527755\n",
      "Доля слов целиком латиницей в словаре: 0.4052297367855278\n",
      "Слов целиком латиницей в документах: 27046183\n",
      "Доля слов целиком латиницей в документах: 0.17635230907680224\n",
      "\n",
      "Средняя длина слова в словаре: 9.171717497466139\n",
      "Средняя длина слова в коллекции: 5.775537833736956\n",
      "\n",
      "10 самых частых слов в коллекции:\n",
      "['и', 0.02321374954996103]\n",
      "['в', 0.022076915376815765]\n",
      "['на', 0.01202572986644836]\n",
      "['с', 0.009480603646361541]\n",
      "['не', 0.008071313976084791]\n",
      "['http', 0.007169429878998853]\n",
      "['url', 0.006240727319313852]\n",
      "['для', 0.005823264336225511]\n",
      "['по', 0.0057902188782989255]\n",
      "['весь', 0.004677295063128561]\n",
      "\n",
      "10 слов с наименьшим idf:\n",
      "['в', 1.1351382030762245]\n",
      "['и', 1.1735505184159416]\n",
      "['на', 1.227091731242369]\n",
      "['с', 1.3423269237222726]\n",
      "['by', 1.3663442094332405]\n",
      "['для', 1.4235179398848374]\n",
      "['по', 1.4331061860028518]\n",
      "['весь', 1.4511681903932665]\n",
      "['©', 1.480801409722942]\n",
      "['о', 1.527895553059993]\n"
     ]
    },
    {
     "data": {
      "image/png": "[encoded data removed]",
      "text/plain": [
       "<Figure size 432x288 with 1 Axes>"
      ]
     },
     "metadata": {
      "needs_background": "light"
     },
     "output_type": "display_data"
    },
    {
     "data": {
      "image/png": "[encoded data removed]",
      "text/plain": [
       "<Figure size 432x288 with 1 Axes>"
      ]
     },
     "metadata": {
      "needs_background": "light"
     },
     "output_type": "display_data"
    },
    {
     "name": "stdout",
     "output_type": "stream",
     "text": [
      "\n",
      "10 самых частых слов в коллекции без стоп-слов:\n",
      "['http', 0.007169429878998853]\n",
      "['url', 0.006240727319313852]\n",
      "['весь', 0.004677295063128561]\n",
      "['a', 0.004067134286412678]\n",
      "['www', 0.003973129478415917]\n",
      "['сообщение', 0.003875271105771443]\n",
      "['это', 0.0035091824642386592]\n",
      "['by', 0.0031535330054486667]\n",
      "['г', 0.002954582134837779]\n",
      "['год', 0.002846075926203937]\n",
      "\n",
      "10 слов с наименьшим idf без стоп-слов:\n",
      "['by', 1.3663442094332405]\n",
      "['весь', 1.4511681903932665]\n",
      "['©', 1.480801409722942]\n",
      "['сайт', 1.7391606810553226]\n",
      "['главный', 1.8922908072512583]\n",
      "['новость', 1.966258995634905]\n",
      "['поиск', 2.056682160338941]\n",
      "['новый', 2.2646209590669764]\n",
      "['форум', 2.270663033605813]\n",
      "['год', 2.2963694399154937]\n"
     ]
    }
   ],
   "source": [
    "get_characteristics(OUTPUT_COLLECTION_FILE)"
   ]
  },
  {
   "cell_type": "code",
   "execution_count": null,
   "metadata": {},
   "outputs": [],
   "source": []
  },
  {
   "cell_type": "code",
   "execution_count": null,
   "metadata": {},
   "outputs": [],
   "source": []
  }
 ],
 "metadata": {
  "kernelspec": {
   "display_name": "Python 3",
   "language": "python",
   "name": "python3"
  },
  "language_info": {
   "codemirror_mode": {
    "name": "ipython",
    "version": 3
   },
   "file_extension": ".py",
   "mimetype": "text/x-python",
   "name": "python",
   "nbconvert_exporter": "python",
   "pygments_lexer": "ipython3",
   "version": "3.6.8"
  }
 },
 "nbformat": 4,
 "nbformat_minor": 2
}
