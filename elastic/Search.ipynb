{
 "cells": [
  {
   "cell_type": "code",
   "execution_count": 7,
   "metadata": {},
   "outputs": [],
   "source": [
    "%config IPCompleter.greedy=True\n",
    "import re\n",
    "import json\n",
    "from collections import defaultdict\n",
    "from tqdm import tqdm_notebook as tqdm\n",
    "from elasticsearch import Elasticsearch\n",
    "from elasticsearch.helpers import parallel_bulk\n",
    "from sklearn.feature_extraction.text import CountVectorizer\n",
    "import requests\n",
    "from time import time\n",
    "from collections import namedtuple\n",
    "import os\n",
    "import xml.etree.ElementTree as ET"
   ]
  },
  {
   "cell_type": "code",
   "execution_count": 8,
   "metadata": {},
   "outputs": [],
   "source": [
    "settings = {\n",
    "    'queries_xml': '/home/karvozavr/Downloads/web2008_adhoc (2).xml', # path to queries xml\n",
    "    'relevance_xml': '/home/karvozavr/Downloads/or_relevant-minus_table.xml', # path to relevance xml\n",
    "    'collection_dir': '/home/karvozavr/Documents/data/out/all_info/', # folder with contents of all_info.zip\n",
    "}"
   ]
  },
  {
   "cell_type": "code",
   "execution_count": 9,
   "metadata": {},
   "outputs": [],
   "source": [
    "es = Elasticsearch([{'host': 'localhost', 'port': 9200, 'timeout': 360, 'maxsize': 25}])"
   ]
  },
  {
   "cell_type": "code",
   "execution_count": 10,
   "metadata": {},
   "outputs": [],
   "source": [
    "if not es.indices.exists(index='byweb'):\n",
    "    es.indices.create(index='byweb')"
   ]
  },
  {
   "cell_type": "code",
   "execution_count": 11,
   "metadata": {},
   "outputs": [],
   "source": [
    "index_settings = {\n",
    "    'mappings': {\n",
    "        'properties': {\n",
    "            'content': {\n",
    "                'type': 'text'\n",
    "            },\n",
    "            'stem_content': {\n",
    "                'type': 'text'\n",
    "            },\n",
    "            'title': {\n",
    "                'type': 'text'\n",
    "            },\n",
    "            'id': {\n",
    "                'type': 'keyword'\n",
    "            },\n",
    "            'url': {\n",
    "                'type': 'keyword'\n",
    "            }\n",
    "        }\n",
    "    },\n",
    "    'settings': {\n",
    "       'analysis': {\n",
    "            'analyzer': {\n",
    "                'white_lover': {\n",
    "                    'tokenizer': 'white_20',\n",
    "                    'filter': [\n",
    "                        'lowercase'\n",
    "                    ]\n",
    "                }\n",
    "            },\n",
    "            'tokenizer': {\n",
    "                'white_20': {\n",
    "                    'type': 'whitespace'\n",
    "                }\n",
    "            },\n",
    "        }\n",
    "    }\n",
    "}"
   ]
  },
  {
   "cell_type": "code",
   "execution_count": 12,
   "metadata": {},
   "outputs": [],
   "source": [
    "def recreate_index():\n",
    "    es.indices.delete(index='byweb')\n",
    "    es.indices.create(index='byweb', body=index_settings)"
   ]
  },
  {
   "cell_type": "code",
   "execution_count": 13,
   "metadata": {},
   "outputs": [
    {
     "name": "stdout",
     "output_type": "stream",
     "text": [
      "CPU times: user 6 µs, sys: 1e+03 ns, total: 7 µs\n",
      "Wall time: 13.1 µs\n"
     ]
    }
   ],
   "source": [
    "%time\n",
    "recreate_index()"
   ]
  },
  {
   "cell_type": "code",
   "execution_count": 14,
   "metadata": {},
   "outputs": [],
   "source": [
    "def create_es_action(index, doc_id, document):\n",
    "    return {\n",
    "        '_index': index,\n",
    "        '_id': doc_id,\n",
    "        '_source': document\n",
    "    }\n",
    "\n",
    "def es_actions_generator(docs):\n",
    "    for doc in os.listdir(docs):\n",
    "        doc = os.path.join(docs, doc)\n",
    "        with open(doc) as d:\n",
    "            data = json.load(d)\n",
    "            for document in data:\n",
    "                yield create_es_action('byweb', document['id'], document)\n"
   ]
  },
  {
   "cell_type": "code",
   "execution_count": 15,
   "metadata": {},
   "outputs": [
    {
     "data": {
      "application/vnd.jupyter.widget-view+json": {
       "model_id": "f790c007818e4e2c992f65833a77dcd5",
       "version_major": 2,
       "version_minor": 0
      },
      "text/plain": [
       "HBox(children=(IntProgress(value=1, bar_style='info', max=1), HTML(value='')))"
      ]
     },
     "metadata": {},
     "output_type": "display_data"
    },
    {
     "name": "stdout",
     "output_type": "stream",
     "text": [
      "\n"
     ]
    }
   ],
   "source": [
    "generator = es_actions_generator(settings['collection_dir'])\n",
    "for ok, result in tqdm(parallel_bulk(es, generator, queue_size=4, thread_count=4, chunk_size=1000)):\n",
    "    if not ok:\n",
    "        print(result)"
   ]
  },
  {
   "cell_type": "code",
   "execution_count": 16,
   "metadata": {},
   "outputs": [],
   "source": [
    "Query = namedtuple('Query', ['query_id', 'text', 'relevant'])"
   ]
  },
  {
   "cell_type": "code",
   "execution_count": 17,
   "metadata": {},
   "outputs": [],
   "source": [
    "def parse_query(query):\n",
    "    text = query.find('{http://www.romip.ru/data/adhoc}querytext').text\n",
    "    query_id = query.attrib['id']\n",
    "    return Query(query_id=query_id, text=text, relevant=[])\n",
    "\n",
    "\n",
    "    \n",
    "def extract_queries():\n",
    "    filename = settings['queries_xml']\n",
    "    with open(filename) as f:\n",
    "        tree = ET.parse(filename)\n",
    "        root = tree.getroot()\n",
    "        tasks = root.findall('{http://www.romip.ru/data/adhoc}task')\n",
    "        qs = list(map(parse_query, tasks))\n",
    "        queries = dict()\n",
    "        for x in qs:\n",
    "            queries[x.query_id] = x\n",
    "        return queries\n",
    "        \n"
   ]
  },
  {
   "cell_type": "code",
   "execution_count": 18,
   "metadata": {},
   "outputs": [],
   "source": [
    "def extract_relevance():\n",
    "    queries_dict = extract_queries()\n",
    "    def parse_relevance(query):\n",
    "        query_id = query.attrib['id']\n",
    "        q = queries_dict[query_id]\n",
    "        for doc in query.findall('./{http://www.romip.ru/common/merged-results}document'):\n",
    "            if doc.attrib['relevance'] == 'vital':\n",
    "                q.relevant.append(doc.attrib['id'])\n",
    "        return q   \n",
    "\n",
    "    filename = settings['relevance_xml']\n",
    "    with open(filename) as f:\n",
    "        tree = ET.parse(filename)\n",
    "        root = tree.getroot()\n",
    "        tasks = root.findall('{http://www.romip.ru/common/merged-results}task')\n",
    "        return list(map(parse_relevance, tasks))"
   ]
  },
  {
   "cell_type": "code",
   "execution_count": 19,
   "metadata": {},
   "outputs": [
    {
     "name": "stdout",
     "output_type": "stream",
     "text": [
      "547\n"
     ]
    }
   ],
   "source": [
    "queries = extract_relevance()\n",
    "print(len(queries))"
   ]
  },
  {
   "cell_type": "code",
   "execution_count": 20,
   "metadata": {},
   "outputs": [],
   "source": [
    "def search(query, result_size=20):\n",
    "    \"\"\"\n",
    "    Use this function for search.\n",
    "    \"\"\"\n",
    "    \n",
    "    query = {\n",
    "        'query': {\n",
    "             'bool': {\n",
    "                'should': \n",
    "                    {\n",
    "                        'match': {\n",
    "                            'content': query.text\n",
    "                        }\n",
    "                    }\n",
    "            }\n",
    "        }\n",
    "    }\n",
    "    \n",
    "    result = es.search(index='byweb', body=query, size=result_size)\n",
    "    return list(map(lambda x: x['_id'], result['hits']['hits']))\n",
    "\n",
    "def pretty_print_result(search_result):\n",
    "    res = search_result['hits']\n",
    "    print(f'Total documents: {res[\"total\"][\"value\"]}')\n",
    "    for hit in res['hits']:\n",
    "        print(f'Doc {hit[\"_id\"]}, score is {hit[\"_score\"]}')\n",
    "                  \n",
    "def get_doc_by_id(doc_id):\n",
    "    return es.get(index='byweb', id=doc_id)['_source']"
   ]
  },
  {
   "cell_type": "code",
   "execution_count": 21,
   "metadata": {},
   "outputs": [
    {
     "name": "stdout",
     "output_type": "stream",
     "text": [
      "Query(query_id='arw53809', text='поздравления с днем рождения', relevant=['856042', '1131416', '1276926', '1401996', '1131523', '1484438', '1412691', '1159068', '1401774', '868223', '1490354', '181562', '1150512', '37290', '819119', '149785', '519872', '33927', '33603', '1449374', '1449370', '254796', '1416262', '698972', '1134971', '1134990', '1167299', '286294', '1167300', '911493', '492431', '409451', '911877', '1059664', '1431402', '32213', '553810', '1001710', '1001523', '1001471', '1217813', '1244486', '6957', '135199', '1415060', '135025', '275284', '626342', '638726', '1403095', '781582', '781520', '870119', '524', '910', '912', '1170791', '1411495', '913379', '428556', '1156', '1169', '276947', '696405', '1030263', '645963', '1402777', '145037', '1489806', '841489', '1472286', '540556', '1472924', '1472920', '1472915', '1472917'])\n",
      "{'519872', '626342', '819119', '870119', '254796', '1001710', '1490354', '1217813', '1472915', '553810', '33927', '696405', '1411495', '492431', '1169', '1156', '1131523', '524', '1472920', '1484438', '275284', '638726', '912', '1489806', '428556', '911877', '1472917', '910', '1402777', '1412691', '1244486', '841489', '37290', '1472924', '1001523', '286294', '1472286'} 37\n"
     ]
    }
   ],
   "source": [
    "q = queries[1] # Query object\n",
    "print(q)\n",
    "results = search(q, result_size=80)\n",
    "\n",
    "good = set(results).intersection(q.relevant)\n",
    "print(good, len(good))\n"
   ]
  }
 ],
 "metadata": {
  "kernelspec": {
   "display_name": "Python 3",
   "language": "python",
   "name": "python3"
  },
  "language_info": {
   "codemirror_mode": {
    "name": "ipython",
    "version": 3
   },
   "file_extension": ".py",
   "mimetype": "text/x-python",
   "name": "python",
   "nbconvert_exporter": "python",
   "pygments_lexer": "ipython3",
   "version": "3.7.4"
  }
 },
 "nbformat": 4,
 "nbformat_minor": 2
}
